{
 "cells": [
  {
   "cell_type": "code",
   "execution_count": 14,
   "id": "d84552a2",
   "metadata": {},
   "outputs": [
    {
     "name": "stdout",
     "output_type": "stream",
     "text": [
      "The new estimated values of A12 and A21 are:  tensor([1.9565, 1.6899], requires_grad=True)\n",
      "Objective value:  tensor(0.6706, grad_fn=<AddBackward0>)\n"
     ]
    }
   ],
   "source": [
    "import numpy as np\n",
    "import torch as t\n",
    "from torch.autograd import Variable\n",
    "\n",
    "x1_info = [0.0,0.1,0.2,0.3,0.4,0.5,0.6,0.7,0.8,0.9,1.0]\n",
    "p_info = [28.1,34.4,36.7,36.9,36.8,36.7,36.5,35.4,32.9,27.7,17.5]\n",
    "p_satw = 10.0**(8.07131-1730.63/(20.0+233.426))\n",
    "p_satd = 10.0**(7.43155-1554.679/(20.0+240.337))\n",
    "\n",
    "def loss(a):\n",
    "    total_loss = 0.0\n",
    "    for i in range(11):\n",
    "        x1 = x1_info[i]\n",
    "        x2= 1-x1\n",
    "        p = p_info[i]\n",
    "        p_norm = x1*p_satw*t.exp(a[0]*(a[1]*(x2)/(a[0]*x1+a[1]*(x2)))**2) + (x2)*p_satd*t.exp(a[1]*(a[0]*x1/(a[0]*x1+a[1]*(x2)))**2)\n",
    "        total_loss = total_loss + (p_norm-p)**2\n",
    "    \n",
    "    return total_loss\n",
    "\n",
    "error = 1\n",
    "A = Variable(t.tensor([1.0,1.0]), requires_grad = True)\n",
    "while error>= 0.5:\n",
    "    loss(A).backward()\n",
    "    error = t.linalg.norm(A.grad)\n",
    "    s = .2\n",
    "    while loss(A-s*A.grad) > loss(A):\n",
    "        s = .5*s\n",
    "    with t.no_grad():\n",
    "        A -= s*A.grad\n",
    "        A.grad.zero_()\n",
    "print('The new estimated values of A12 and A21 are: ', A)\n",
    "print('Objective value: ',loss(A))\n"
   ]
  },
  {
   "cell_type": "code",
   "execution_count": null,
   "id": "3a58fb17",
   "metadata": {},
   "outputs": [],
   "source": [
    "tensor ([1.9582, 1.6893], requires_grad=True)\n",
    "tensor (0.6702, grad fn=<AddBackward@>)\n",
    "In [64):\n",
    "#3.\n",
    "from math import exp\n",
    "A = [1.9582, 1.6893]\n",
    "print('predict value\n",
    "true value\n",
    "error')\n",
    "for i in range (11) :\n",
    "x1 = x1 datali]\n",
    "P_fit = x1*P_water* exp (A[0]* (A[1]* (1-x1) / (A[e]*x1+A[1]* (1-x1)))**2) + (1-x1) *p_ dio*exp (A[1]* ( A[8]*x1/ ( A[@]*x1+A[1]* (1-x1) ) )**2)\n",
    "print (round (p fit,3),\n",
    "p_data[il,\n",
    "round ((p_fit-p_data[i])/p_data[i],4))"
   ]
  }
 ],
 "metadata": {
  "kernelspec": {
   "display_name": "Python 3",
   "language": "python",
   "name": "python3"
  },
  "language_info": {
   "codemirror_mode": {
    "name": "ipython",
    "version": 3
   },
   "file_extension": ".py",
   "mimetype": "text/x-python",
   "name": "python",
   "nbconvert_exporter": "python",
   "pygments_lexer": "ipython3",
   "version": "3.8.8"
  }
 },
 "nbformat": 4,
 "nbformat_minor": 5
}
