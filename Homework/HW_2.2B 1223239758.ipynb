{
 "cells": [
  {
   "cell_type": "code",
   "execution_count": 44,
   "id": "040a8129",
   "metadata": {
    "scrolled": true
   },
   "outputs": [
    {
     "data": {
      "text/plain": [
       "[array([0, 0]),\n",
       " array([-0.03571429,  0.19642857]),\n",
       " array([-0.0625 ,  0.34375]),\n",
       " array([-0.08258929,  0.45424107]),\n",
       " array([-0.09765625,  0.53710938]),\n",
       " array([-0.10895647,  0.5992606 ]),\n",
       " array([-0.11743164,  0.64587402]),\n",
       " array([-0.12378802,  0.68083409]),\n",
       " array([-0.1285553 ,  0.70705414]),\n",
       " array([-0.13213076,  0.72671918]),\n",
       " array([-0.13481236,  0.74146795]),\n",
       " array([-0.13682355,  0.75252954]),\n",
       " array([-0.13833195,  0.76082572]),\n",
       " array([-0.13946325,  0.76704786]),\n",
       " array([-0.14031172,  0.77171447]),\n",
       " array([-0.14094808,  0.77521442]),\n",
       " array([-0.14142534,  0.77783939]),\n",
       " array([-0.14178329,  0.77980811]),\n",
       " array([-0.14205176,  0.78128466]),\n",
       " array([-0.1422531 ,  0.78239206]),\n",
       " array([-0.14240411,  0.78322262]),\n",
       " array([-0.14251737,  0.78384554]),\n",
       " array([-0.14260231,  0.78431272]),\n",
       " array([-0.14266602,  0.78466311]),\n",
       " array([-0.1427138 ,  0.78492591]),\n",
       " array([-0.14274964,  0.785123  ]),\n",
       " array([-0.14277651,  0.78527082]),\n",
       " array([-0.14279667,  0.78538169]),\n",
       " array([-0.14281179,  0.78546484]),\n",
       " array([-0.14282313,  0.7855272 ]),\n",
       " array([-0.14283163,  0.78557397]),\n",
       " array([-0.14283801,  0.78560905]),\n",
       " array([-0.14284279,  0.78563536]),\n",
       " array([-0.14284638,  0.78565509]),\n",
       " array([-0.14284907,  0.78566989])]"
      ]
     },
     "execution_count": 44,
     "metadata": {},
     "output_type": "execute_result"
    }
   ],
   "source": [
    "\n",
    "# code using line search-- newton method\n",
    "import numpy as np\n",
    "obj = lambda x: (2-2*x[0]-3*x[1])**2 + x[0]**2 +(x[1]-1)**2 # defining the given function \n",
    "def grad(x):\n",
    "     return np.array([10*x[0]+12*x[1]-8, 20*x[1]+12*x[0]-14]) #returning the giving defined gradient of the function \n",
    "eps = 1e-3  #  its an termination criterion  \n",
    "x0= np.zeros((2),dtype=int)  # initial guess\n",
    "k = 0  # counter\n",
    "soln = [x0]  # using this array which helps to store the error  \n",
    "x = soln[k]  # initial guess\n",
    "error = np.linalg.norm(grad(x))  #this will compute the error \n",
    "a = 1  # we have set an fixed part to start this as one \n",
    "\n",
    "# Armijo line search\n",
    "def line_search(x):\n",
    "    a = 1.  # initialize step size\n",
    "    h=([[10,12],[12,20]])\n",
    "    d=-np.matmul(np.linalg.inv(h),grad(x))\n",
    "    def phi(a,x):\n",
    "        return obj(x)+a*0.8*np.dot(grad(x),d)\n",
    "   \n",
    "#     phi = lambda a, x: obj(x) + a*0.8*np.dot(grad(x),d)  # define phi as a search criterion\n",
    "    while phi(a,x)<obj(x+a*d):  # while phi(a,x)<obj(x-a*grad(x)): # if f(x+a*d)>phi(a) then backtrack. d is the search direction\n",
    "        a = 0.5*a\n",
    "    return a\n",
    "\n",
    "while error >= eps:  # keep searching while gradient norm is larger than eps\n",
    "    a = line_search(x)\n",
    "    h=([[10,12],[12,20]])\n",
    "    d=-np.matmul(np.linalg.inv(h),grad(x))\n",
    "    x = x+a*d\n",
    "    soln.append(x)\n",
    "    error = np.linalg.norm(grad(x))\n",
    "   \n",
    "soln  # print the solution"
   ]
  },
  {
   "cell_type": "markdown",
   "id": "4095307b",
   "metadata": {},
   "source": [
    "[img1](images/0001.jpg)\n",
    "[img2](images/0002.jpg)\n",
    "[img3](images/0003.jpg)\n",
    "[img4](images/0004.jpg)\n",
    "[img5](images/0005.jpg)\n",
    "[img6](images/0006.jpg)\n",
    "[img7](images/0007.jpg)\n",
    "[img8](images/0008.jpg)\n",
    "[img9](images/0009.jpg)\n",
    "[img10](images/0010.jpg)\n",
    "[img11](images/0011.jpg)\n",
    "[img12](images/0012.jpg)\n",
    "[img13](images/0013.jpg)\n",
    "[img14](images/0014.jpg)\n"
   ]
  },
  {
   "cell_type": "code",
   "execution_count": null,
   "id": "3831903e",
   "metadata": {},
   "outputs": [],
   "source": []
  }
 ],
 "metadata": {
  "kernelspec": {
   "display_name": "Python 3",
   "language": "python",
   "name": "python3"
  },
  "language_info": {
   "codemirror_mode": {
    "name": "ipython",
    "version": 3
   },
   "file_extension": ".py",
   "mimetype": "text/x-python",
   "name": "python",
   "nbconvert_exporter": "python",
   "pygments_lexer": "ipython3",
   "version": "3.8.8"
  }
 },
 "nbformat": 4,
 "nbformat_minor": 5
}
