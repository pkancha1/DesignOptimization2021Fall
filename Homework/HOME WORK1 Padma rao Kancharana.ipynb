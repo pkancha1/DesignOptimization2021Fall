{
 "cells": [
  {
   "cell_type": "code",
   "execution_count": 1,
   "id": "e945fac1",
   "metadata": {},
   "outputs": [
    {
     "name": "stdout",
     "output_type": "stream",
     "text": [
      "     fun: 4.093023501855792\n",
      "     jac: array([-2.04589939, -0.18737841, -2.23327786, -2.23229748, -1.48852509])\n",
      " message: 'Optimization terminated successfully'\n",
      "    nfev: 43\n",
      "     nit: 7\n",
      "    njev: 7\n",
      "  status: 0\n",
      " success: True\n",
      "       x: array([-0.76721229,  0.25573743,  0.62762363, -0.11614877,  0.25573743])\n"
     ]
    }
   ],
   "source": [
    "from scipy.optimize import minimize\n",
    "\n",
    "fun = lambda x: (x[0]-x[1])**2 + (x[1]+x[2]-2)**2 + (x[3]-1)**2 + (x[4]-1)**2\n",
    "cons  = ({'type': 'eq', 'fun': lambda x: x[0]+3*x[1] },\n",
    " {'type': 'eq', 'fun': lambda x: x[2]+x[3]-2*x[4] },\n",
    " {'type': 'eq', 'fun': lambda x: x[1]- x[4] })\n",
    "b= (-10, 10)\n",
    "bnds= (b,b,b,b,b)\n",
    "sol= minimize (fun, (1,5,8,7,1), method= 'SLSQP', bounds= bnds, constraints= cons)\n",
    "print (sol)"
   ]
  },
  {
   "cell_type": "code",
   "execution_count": null,
   "id": "20fcb0de",
   "metadata": {},
   "outputs": [],
   "source": []
  }
 ],
 "metadata": {
  "kernelspec": {
   "display_name": "Python 3",
   "language": "python",
   "name": "python3"
  },
  "language_info": {
   "codemirror_mode": {
    "name": "ipython",
    "version": 3
   },
   "file_extension": ".py",
   "mimetype": "text/x-python",
   "name": "python",
   "nbconvert_exporter": "python",
   "pygments_lexer": "ipython3",
   "version": "3.8.8"
  }
 },
 "nbformat": 4,
 "nbformat_minor": 5
}
